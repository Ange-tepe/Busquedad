{
  "nbformat": 4,
  "nbformat_minor": 0,
  "metadata": {
    "colab": {
      "name": "Untitled0.ipynb",
      "provenance": [],
      "authorship_tag": "ABX9TyOd6VnZcHrvbk3B1nQOv3qh",
      "include_colab_link": true
    },
    "kernelspec": {
      "name": "python3",
      "display_name": "Python 3"
    }
  },
  "cells": [
    {
      "cell_type": "markdown",
      "metadata": {
        "id": "view-in-github",
        "colab_type": "text"
      },
      "source": [
        "<a href=\"https://colab.research.google.com/github/Ange-tepe/Busquedad/blob/main/Untitled0.ipynb\" target=\"_parent\"><img src=\"https://colab.research.google.com/assets/colab-badge.svg\" alt=\"Open In Colab\"/></a>"
      ]
    },
    {
      "cell_type": "code",
      "metadata": {
        "id": "Ybu8aKbEXcE1",
        "outputId": "4bf809a6-0b82-4eb0-b1ec-528d51443288",
        "colab": {
          "base_uri": "https://localhost:8080/",
          "height": 129
        }
      },
      "source": [
        "def bus_lineal(L, buscado):\n",
        "  indice=-1\n",
        "  for idx in range (len (L)):\n",
        "    if L[idx]==buscado:\n",
        "      indice = idx\n",
        "      break\n",
        "  return indice\n",
        "def busq_binaria(L, buscado):\n",
        "  izq=0\n",
        "  dere=len(L)-1\n",
        "  mid=int((izq+dere)//2)\n",
        "  if len(L)%2==0:\n",
        "    mid=(dere//2)+1\n",
        "  else :\n",
        "    mid =dere//2\n",
        "  while (L[mid] !=buscado):\n",
        "    if L[mid]>buscado:\n",
        "      dere=mid\n",
        "    else :\n",
        "      izq=mid\n",
        "    if (dere-izq) %2 ==0:\n",
        "      mid==(izq+((dere-izq//2))+1\n",
        "    else:\n",
        "        mid =izq+((dere-izq)//2)\n",
        "  return mid\n",
        "def mainBusL():\n",
        "  datos =[1,4,2,5,12,5,67]\n",
        "  dato=int ( input (\"Que valor desea buscar\"))\n",
        "  resultado=bus_lineal(datos, dato)\n",
        "  print(\"resultado\",resultado)\n",
        "  datos.sort()\n",
        "\n",
        "mainBusL()\n",
        "  "
      ],
      "execution_count": 10,
      "outputs": [
        {
          "output_type": "error",
          "ename": "SyntaxError",
          "evalue": "ignored",
          "traceback": [
            "\u001b[0;36m  File \u001b[0;32m\"<ipython-input-10-8c0bf925b8cb>\"\u001b[0;36m, line \u001b[0;32m23\u001b[0m\n\u001b[0;31m    else:\u001b[0m\n\u001b[0m       ^\u001b[0m\n\u001b[0;31mSyntaxError\u001b[0m\u001b[0;31m:\u001b[0m invalid syntax\n"
          ]
        }
      ]
    },
    {
      "cell_type": "markdown",
      "metadata": {
        "id": "8wa1x08qcdIf"
      },
      "source": [
        ""
      ]
    }
  ]
}